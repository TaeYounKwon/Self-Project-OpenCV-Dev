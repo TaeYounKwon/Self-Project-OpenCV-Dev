{
 "cells": [
  {
   "attachments": {},
   "cell_type": "markdown",
   "metadata": {},
   "source": [
    "### 도형 그리기"
   ]
  },
  {
   "cell_type": "code",
   "execution_count": 33,
   "metadata": {},
   "outputs": [],
   "source": [
    "import numpy as np\n",
    "import cv2"
   ]
  },
  {
   "attachments": {},
   "cell_type": "markdown",
   "metadata": {},
   "source": [
    "### 그림을 그릴 바탕화면 설정\n",
    "\n",
    "- 코드는 np.zeros()함수를 사용\n",
    "\n",
    "    - 이 함수는 numpy 배열을 만들고 모든 값을 0으로 채우는 함수\n",
    "    \n",
    "- 각 멤버는 (0,0,0)값(rgb로 채워짐)\n",
    "\n",
    "    - (0,0,0) = color(\"Black\")"
   ]
  },
  {
   "cell_type": "code",
   "execution_count": 40,
   "metadata": {},
   "outputs": [],
   "source": [
    "img = np.zeros((512,512,3), np.uint8)\n",
    "\n",
    "cv2.imshow('drawing', img)\n",
    "cv2.waitKey(0)\n",
    "cv2.destroyAllWindows()\n"
   ]
  },
  {
   "attachments": {},
   "cell_type": "markdown",
   "metadata": {},
   "source": [
    "### cv2.line() 직선 그리기\n",
    "\n",
    "-  좌표 (0,0)부터 (511,511)까지 두께 5인 직선 그리기\n",
    "\n",
    "- cv2.line(이미지를 그릴 판, 시작 좌표, 끝 좌표, rgb값, 굵기)"
   ]
  },
  {
   "cell_type": "code",
   "execution_count": 41,
   "metadata": {},
   "outputs": [],
   "source": [
    "\n",
    "# 다양한 색상과 선두께를 가진 도형 그리기\n",
    "cv2.line(img, (0,0), (511,511), (255,0,0), 5) # cv2.line(이미지를 그릴 판, 시작 좌표, 끝 좌표, rgb값, 굵기)\n",
    "\n",
    "cv2.imshow('drawing', img)\n",
    "cv2.waitKey(0)\n",
    "cv2.destroyAllWindows()"
   ]
  },
  {
   "attachments": {},
   "cell_type": "markdown",
   "metadata": {},
   "source": [
    "### cv2.rectangle() 직사각형 그리기\n",
    "\n",
    "- cv2.rectangle(이미지를 그릴 판, 좌측 상단, 우측 하단, rgb값, 굵기)"
   ]
  },
  {
   "cell_type": "code",
   "execution_count": 43,
   "metadata": {},
   "outputs": [],
   "source": [
    "cv2.rectangle(img, (384,0), (510,128),(0,255,0),3)\n",
    "\n",
    "cv2.imshow('drawing', img)\n",
    "cv2.waitKey(0)\n",
    "cv2.destroyAllWindows()"
   ]
  },
  {
   "attachments": {},
   "cell_type": "markdown",
   "metadata": {},
   "source": [
    "### cv2.circle() 원 그리기\n",
    "\n",
    "- cv2.circle(이미지를 그릴 판, 원의 중심, 반지름, rgb값, 주어진 색상으로 도형을 채움)"
   ]
  },
  {
   "cell_type": "code",
   "execution_count": 30,
   "metadata": {},
   "outputs": [],
   "source": [
    "cv2.circle(img, (447,63),63,(0,0,2555),-1)\n",
    "\n",
    "cv2.imshow('drawing', img)\n",
    "cv2.waitKey(0)\n",
    "cv2.destroyAllWindows()"
   ]
  },
  {
   "attachments": {},
   "cell_type": "markdown",
   "metadata": {},
   "source": [
    "### cv2.ellipse() 타원 그리기\n",
    "\n",
    "- cv2.ellipse(이미지를 그릴 판, 타원의 중심, 각각 장축과 단축의 1/2길이, \n",
    "- 타원의 기울기 각도, 타원의 호를 그리는 시작 각도, 타원 호를 그리는 끝 각도, \n",
    "- rgb값, 주어진 색상으로 도형을 채움)"
   ]
  },
  {
   "cell_type": "code",
   "execution_count": 31,
   "metadata": {},
   "outputs": [],
   "source": [
    "cv2.ellipse(img, (256,256),(100,50),\n",
    "            0,0,180,\n",
    "            (255,0,0),-1)\n",
    "\n",
    "cv2.imshow('drawing', img)\n",
    "cv2.waitKey(0)\n",
    "cv2.destroyAllWindows()"
   ]
  },
  {
   "attachments": {},
   "cell_type": "markdown",
   "metadata": {},
   "source": [
    "### cv2.FONT_HERSHEY_SIMPLEX() 글자 적기\n",
    "\n",
    "- cv2.FONT_HERSHEY_SIMPLEX(이미지를 그릴 판, 글자, 글자의 위치, 폰트, 폰트크기, 글자 색, 굵기)"
   ]
  },
  {
   "cell_type": "code",
   "execution_count": 32,
   "metadata": {},
   "outputs": [],
   "source": [
    "font = cv2.FONT_HERSHEY_SIMPLEX\n",
    "cv2.putText(img, 'OpenCV',(10,500), font, 4, (255,255,255),2)\n",
    "\n",
    "cv2.imshow('drawing', img)\n",
    "cv2.waitKey(0)\n",
    "cv2.destroyAllWindows()"
   ]
  }
 ],
 "metadata": {
  "kernelspec": {
   "display_name": "Python 3",
   "language": "python",
   "name": "python3"
  },
  "language_info": {
   "codemirror_mode": {
    "name": "ipython",
    "version": 3
   },
   "file_extension": ".py",
   "mimetype": "text/x-python",
   "name": "python",
   "nbconvert_exporter": "python",
   "pygments_lexer": "ipython3",
   "version": "3.10.5"
  },
  "orig_nbformat": 4,
  "vscode": {
   "interpreter": {
    "hash": "e89c93e4c07d4ac8f065cea982a638287e1c61026788fcbbad7e0263e2130583"
   }
  }
 },
 "nbformat": 4,
 "nbformat_minor": 2
}
