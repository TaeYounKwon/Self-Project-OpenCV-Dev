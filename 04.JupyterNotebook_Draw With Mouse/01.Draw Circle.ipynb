{
 "cells": [
  {
   "attachments": {},
   "cell_type": "markdown",
   "metadata": {},
   "source": [
    "### 마우스를 이용해서 글자나 모양 그리기"
   ]
  },
  {
   "cell_type": "code",
   "execution_count": 1,
   "metadata": {},
   "outputs": [],
   "source": [
    "import numpy as np\n",
    "import cv2\n",
    "from random import shuffle # 리스트를 무작위로 섞음"
   ]
  },
  {
   "cell_type": "code",
   "execution_count": 2,
   "metadata": {},
   "outputs": [],
   "source": [
    "# RGB값 생성\n",
    "\n",
    "b = [i for i in range(256)]\n",
    "g = [i for i in range(256)]\n",
    "r = [i for i in range(256)]"
   ]
  },
  {
   "attachments": {},
   "cell_type": "markdown",
   "metadata": {},
   "source": [
    "### onMouse(마우스 이벤트, x좌표, y좌표, flags(여기서는 사용 안함), param: cv2.setMouseCallBack()함수에서 전달받은 사용자 데이터. img가 전달됨)\n",
    "\n",
    "- 마우스가 더블클릭될 때 발생하는 이벤트.\n",
    "\n",
    "- rgb값을 무작위로 섞은 후, 각각의 리스트에서 첫번째 맴버를 값으로 하는 색상으로 반지름 ##인 원을 그림판에 그림"
   ]
  },
  {
   "cell_type": "code",
   "execution_count": 3,
   "metadata": {},
   "outputs": [],
   "source": [
    "def onMouse(event, x,y, flags, param):\n",
    "    if event == cv2.EVENT_LBUTTONDBLCLK:\n",
    "        shuffle(r), shuffle(g), shuffle(b)\n",
    "        cv2.circle(param, (x,y), 25, (b[0],g[0],r[0]),-1)"
   ]
  },
  {
   "cell_type": "code",
   "execution_count": 4,
   "metadata": {},
   "outputs": [],
   "source": [
    "def mouseBrush():\n",
    "    img = np.zeros((512,512,3),np.uint8)\n",
    "    cv2.namedWindow('paint')\n",
    "    cv2.setMouseCallback('paint', onMouse, param=img)\n",
    "    \n",
    "    while True:\n",
    "        cv2.imshow('paint', img)\n",
    "        k = cv2.waitKey(1) & 0xFF\n",
    "        \n",
    "        if k == 27:\n",
    "            break\n",
    "    cv2.destroyAllWindows()\n"
   ]
  },
  {
   "cell_type": "code",
   "execution_count": 5,
   "metadata": {},
   "outputs": [],
   "source": [
    "mouseBrush()"
   ]
  },
  {
   "cell_type": "code",
   "execution_count": null,
   "metadata": {},
   "outputs": [],
   "source": []
  }
 ],
 "metadata": {
  "kernelspec": {
   "display_name": "Python 3",
   "language": "python",
   "name": "python3"
  },
  "language_info": {
   "codemirror_mode": {
    "name": "ipython",
    "version": 3
   },
   "file_extension": ".py",
   "mimetype": "text/x-python",
   "name": "python",
   "nbconvert_exporter": "python",
   "pygments_lexer": "ipython3",
   "version": "3.10.5 (tags/v3.10.5:f377153, Jun  6 2022, 16:14:13) [MSC v.1929 64 bit (AMD64)]"
  },
  "orig_nbformat": 4,
  "vscode": {
   "interpreter": {
    "hash": "e89c93e4c07d4ac8f065cea982a638287e1c61026788fcbbad7e0263e2130583"
   }
  }
 },
 "nbformat": 4,
 "nbformat_minor": 2
}
