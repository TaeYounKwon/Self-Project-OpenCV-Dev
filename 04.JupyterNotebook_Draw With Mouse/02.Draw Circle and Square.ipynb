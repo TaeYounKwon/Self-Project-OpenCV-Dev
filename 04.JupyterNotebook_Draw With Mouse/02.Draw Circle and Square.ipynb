{
 "cells": [
  {
   "cell_type": "code",
   "execution_count": 1,
   "metadata": {},
   "outputs": [],
   "source": [
    "import numpy as np\n",
    "import cv2\n",
    "import math\n",
    "\n",
    "from random import shuffle"
   ]
  },
  {
   "cell_type": "code",
   "execution_count": 2,
   "metadata": {},
   "outputs": [],
   "source": [
    "mode = True\n",
    "drawing = False\n",
    "ix, iy = -1, -1\n",
    "red = [i for i in range(256)]\n",
    "green = [i for i in range(256)]\n",
    "blue = [i for i in range(256)]"
   ]
  },
  {
   "cell_type": "code",
   "execution_count": 3,
   "metadata": {},
   "outputs": [],
   "source": [
    "def onMouse(event, x, y, flags, param):\n",
    "    global ix, iy, drawing \n",
    "    global mode, red, green, blue\n",
    "    \n",
    "    if event == cv2.EVENT_LBUTTONDOWN:\n",
    "        drawing = True\n",
    "        ix, iy = x, y\n",
    "        shuffle(red), shuffle(green), shuffle(blue)\n",
    "        \n",
    "    elif event == cv2.EVENT_MOUSEMOVE:\n",
    "        if drawing:\n",
    "            if mode:\n",
    "                cv2.rectangle(param, (ix, iy), (x, y), (red[0], green[0], blue[0]), -1)\n",
    "            else:\n",
    "                r = (ix - x)**2 + (iy-y)**2\n",
    "                r = int(math.sqrt(r))\n",
    "                cv2.circle(param, (ix, iy), r, (red[0], green[0], blue[0]), -1)\n",
    "                \n",
    "    elif event == cv2.EVENT_LBUTTONUP:\n",
    "        drawing = False\n",
    "        if mode:\n",
    "            cv2.rectangle(param, (ix, iy), (x,y), (red[0], green[0], blue[0]), -1)\n",
    "        else:\n",
    "            r = (ix - x)**2 + (iy - y)**2\n",
    "            r = int(math.sqrt(r))\n",
    "            cv2.circle(param, (ix,iy), r, (red[0], green[0], blue[0]), -1)\n",
    "                "
   ]
  },
  {
   "cell_type": "code",
   "execution_count": 4,
   "metadata": {},
   "outputs": [],
   "source": [
    "def mouseBrush():\n",
    "    global mode\n",
    "    \n",
    "    img = np.zeros((512,512,3), np.uint8)\n",
    "    cv2.namedWindow('paint')\n",
    "    cv2.setMouseCallback('paint', onMouse, param=img)\n",
    "    \n",
    "    while True:\n",
    "        cv2.imshow('paint', img)\n",
    "        k = cv2.waitKey(1) & 0xFF\n",
    "        \n",
    "        if k == 27:\n",
    "            break\n",
    "        elif k == ord('m'):\n",
    "            mode = not mode\n",
    "            \n",
    "    cv2.destroyAllWindows()"
   ]
  },
  {
   "cell_type": "code",
   "execution_count": 5,
   "metadata": {},
   "outputs": [],
   "source": [
    "mouseBrush()"
   ]
  },
  {
   "cell_type": "code",
   "execution_count": null,
   "metadata": {},
   "outputs": [],
   "source": []
  }
 ],
 "metadata": {
  "kernelspec": {
   "display_name": "Python 3",
   "language": "python",
   "name": "python3"
  },
  "language_info": {
   "codemirror_mode": {
    "name": "ipython",
    "version": 3
   },
   "file_extension": ".py",
   "mimetype": "text/x-python",
   "name": "python",
   "nbconvert_exporter": "python",
   "pygments_lexer": "ipython3",
   "version": "3.10.5"
  },
  "orig_nbformat": 4,
  "vscode": {
   "interpreter": {
    "hash": "e89c93e4c07d4ac8f065cea982a638287e1c61026788fcbbad7e0263e2130583"
   }
  }
 },
 "nbformat": 4,
 "nbformat_minor": 2
}
