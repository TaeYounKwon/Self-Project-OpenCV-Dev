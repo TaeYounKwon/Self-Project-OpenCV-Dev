{
 "cells": [
  {
   "attachments": {},
   "cell_type": "markdown",
   "metadata": {},
   "source": [
    "### 트랙바 사용법\n",
    "\n",
    "- cv2.createTrackbar(trackbarname, windowname, start, end, onchange)\n",
    "\n",
    "- cv2.getTrackbarPos(trackbarname, windowname)"
   ]
  },
  {
   "cell_type": "code",
   "execution_count": 1,
   "metadata": {},
   "outputs": [],
   "source": [
    "import numpy as np\n",
    "import cv2"
   ]
  },
  {
   "cell_type": "code",
   "execution_count": 6,
   "metadata": {},
   "outputs": [],
   "source": [
    "# 콜백 함수, 트랙바 이벤트가 발생할 때 처리할일이 아무것도 없으므로 pass\n",
    "def onChange(x):\n",
    "    pass"
   ]
  },
  {
   "cell_type": "code",
   "execution_count": 3,
   "metadata": {},
   "outputs": [],
   "source": [
    "def trackbar():\n",
    "    img = np.zeros((200,512,3), np.uint8)\n",
    "    cv2.namedWindow('color_palette')\n",
    "    \n",
    "    cv2.createTrackbar('R', 'color_palette', 0,255, onChange)\n",
    "    cv2.createTrackbar('G', 'color_palette', 0,255, onChange)\n",
    "    cv2.createTrackbar('B', 'color_palette', 0,255, onChange)\n",
    "    \n",
    "    switch = '0: OFF\\n1: ON'\n",
    "    cv2.createTrackbar(switch, 'color_palette', 0, 1, onChange)\n",
    "    \n",
    "    while True:\n",
    "        cv2.imshow('color_palette', img)\n",
    "        k = cv2.waitKey(1) & 0xFF\n",
    "        \n",
    "        if k == 27:\n",
    "            break\n",
    "        \n",
    "        r = cv2.getTrackbarPos('R', 'color_palette')\n",
    "        g = cv2.getTrackbarPos('G', 'color_palette')\n",
    "        b = cv2.getTrackbarPos('B', 'color_palette')\n",
    "        s = cv2.getTrackbarPos(switch, 'color_palette')\n",
    "        \n",
    "        if s == 0:\n",
    "            img[:] = 0\n",
    "            \n",
    "        else:\n",
    "            img[:] = [b, g, r]\n",
    "            \n",
    "    cv2.destroyAllWindows()\n"
   ]
  },
  {
   "cell_type": "code",
   "execution_count": 5,
   "metadata": {},
   "outputs": [
    {
     "ename": "error",
     "evalue": "OpenCV(4.6.0) D:\\a\\opencv-python\\opencv-python\\opencv\\modules\\highgui\\src\\window_w32.cpp:2581: error: (-27:Null pointer) NULL window: 'color_palette' in function 'cvGetTrackbarPos'\n",
     "output_type": "error",
     "traceback": [
      "\u001b[1;31m---------------------------------------------------------------------------\u001b[0m",
      "\u001b[1;31merror\u001b[0m                                     Traceback (most recent call last)",
      "Cell \u001b[1;32mIn [5], line 1\u001b[0m\n\u001b[1;32m----> 1\u001b[0m trackbar()\n",
      "Cell \u001b[1;32mIn [3], line 19\u001b[0m, in \u001b[0;36mtrackbar\u001b[1;34m()\u001b[0m\n\u001b[0;32m     16\u001b[0m \u001b[39mif\u001b[39;00m k \u001b[39m==\u001b[39m \u001b[39m27\u001b[39m:\n\u001b[0;32m     17\u001b[0m     \u001b[39mbreak\u001b[39;00m\n\u001b[1;32m---> 19\u001b[0m r \u001b[39m=\u001b[39m cv2\u001b[39m.\u001b[39;49mgetTrackbarPos(\u001b[39m'\u001b[39;49m\u001b[39mR\u001b[39;49m\u001b[39m'\u001b[39;49m, \u001b[39m'\u001b[39;49m\u001b[39mcolor_palette\u001b[39;49m\u001b[39m'\u001b[39;49m)\n\u001b[0;32m     20\u001b[0m g \u001b[39m=\u001b[39m cv2\u001b[39m.\u001b[39mgetTrackbarPos(\u001b[39m'\u001b[39m\u001b[39mG\u001b[39m\u001b[39m'\u001b[39m, \u001b[39m'\u001b[39m\u001b[39mcolor_palette\u001b[39m\u001b[39m'\u001b[39m)\n\u001b[0;32m     21\u001b[0m b \u001b[39m=\u001b[39m cv2\u001b[39m.\u001b[39mgetTrackbarPos(\u001b[39m'\u001b[39m\u001b[39mB\u001b[39m\u001b[39m'\u001b[39m, \u001b[39m'\u001b[39m\u001b[39mcolor_palette\u001b[39m\u001b[39m'\u001b[39m)\n",
      "\u001b[1;31merror\u001b[0m: OpenCV(4.6.0) D:\\a\\opencv-python\\opencv-python\\opencv\\modules\\highgui\\src\\window_w32.cpp:2581: error: (-27:Null pointer) NULL window: 'color_palette' in function 'cvGetTrackbarPos'\n"
     ]
    }
   ],
   "source": [
    "trackbar()"
   ]
  },
  {
   "cell_type": "code",
   "execution_count": null,
   "metadata": {},
   "outputs": [],
   "source": []
  }
 ],
 "metadata": {
  "kernelspec": {
   "display_name": "Python 3",
   "language": "python",
   "name": "python3"
  },
  "language_info": {
   "codemirror_mode": {
    "name": "ipython",
    "version": 3
   },
   "file_extension": ".py",
   "mimetype": "text/x-python",
   "name": "python",
   "nbconvert_exporter": "python",
   "pygments_lexer": "ipython3",
   "version": "3.10.5"
  },
  "orig_nbformat": 4,
  "vscode": {
   "interpreter": {
    "hash": "e89c93e4c07d4ac8f065cea982a638287e1c61026788fcbbad7e0263e2130583"
   }
  }
 },
 "nbformat": 4,
 "nbformat_minor": 2
}
