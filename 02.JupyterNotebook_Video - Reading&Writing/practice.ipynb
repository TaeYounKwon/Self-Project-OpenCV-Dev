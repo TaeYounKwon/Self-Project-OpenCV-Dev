{
 "cells": [
  {
   "attachments": {},
   "cell_type": "markdown",
   "metadata": {},
   "source": [
    "## 카메라를 통해 비디오를 저장하거나, 비디오 파일 읽기!"
   ]
  },
  {
   "cell_type": "code",
   "execution_count": 1,
   "metadata": {},
   "outputs": [],
   "source": [
    "import numpy as np\n",
    "import cv2"
   ]
  },
  {
   "attachments": {},
   "cell_type": "markdown",
   "metadata": {},
   "source": [
    "### 카메라를 통한 캡쳐 및 비디오 저장\n",
    "\n",
    "### cv2.VideoCapture()\n",
    "\n",
    "- 값 '0' 을 통해 컴퓨터에 장착된 카메라 사용(두개 이상일 경우, 0, 1, ... 으로 특정 카메라 지정 가능)\n",
    "\n",
    "- 저장되어있는 동영상 사용시 안에 비디오경로 및 파일 이름을 적어주면 됨"
   ]
  },
  {
   "cell_type": "code",
   "execution_count": 2,
   "metadata": {},
   "outputs": [
    {
     "name": "stdout",
     "output_type": "stream",
     "text": [
      "Run Camera\n"
     ]
    }
   ],
   "source": [
    "def showVideo():\n",
    "    try:\n",
    "        print('Run Camera')\n",
    "        cap = cv2.VideoCapture(0)\n",
    "    except:\n",
    "        print('Camera FAILED')\n",
    "        return\n",
    "\n",
    "    # 비디오의 프레임 폭을 설정, 현재는 480x320\n",
    "    cap.set(3, 480)\n",
    "    cap.set(4, 320)\n",
    "    \n",
    "    \n",
    "    # 비디오를 프레임별로 캡쳐하고 이를 화면에 디스플레이해줌\n",
    "    while True:\n",
    "        # 비디오의 한 프레임씩 읽음\n",
    "        ret, frame = cap.read() \n",
    "        \n",
    "        # cap이 제대로 초기화 되지 않았을때 에러코드를 리턴 \n",
    "        if not ret:\n",
    "            print('Video Reading FAILED') \n",
    "            break\n",
    "        \n",
    "        #frame을 흑색으로 변환\n",
    "        gray = cv2.cvtColor(frame, cv2.COLOR_BGR2GRAY)\n",
    "        \n",
    "        # 변환된 프레임을 화면에 디스플레이  \n",
    "        cv2.imshow('video', gray)\n",
    "        \n",
    "        wait = cv2.waitKey(1) & 0xFF\n",
    "        if wait == 27:\n",
    "            break\n",
    "    \n",
    "    # 오픈한 cap 개체를 해\n",
    "    cap.release()\n",
    "    cv2.destroyAllWindows()\n",
    "    \n",
    "showVideo()"
   ]
  },
  {
   "attachments": {},
   "cell_type": "markdown",
   "metadata": {},
   "source": [
    "### 비디오 녹화 및 저장\n",
    "\n",
    "- 비디오 저장을 위해 프레임수를 20.0 으로 지정, 원본 크기 그대로 width와 height를 지정\n",
    "\n",
    "- fcc = cv2.VideoWriter_fourcc('D','I','V','X')\n",
    "    \n",
    "    - 현제는 DIVX 코덱을 사용함\n",
    "\n",
    "    - 사용가능 코덱은: DIVX, XVID, MJPG, X264, WMV1, WMV2\n",
    "\n",
    "    - 만약 X264코덱을 사용한다면 ('X','2','6','4')로 적용하면 됨\n",
    "\n",
    "- out = cv2.VideoWriter('myCam.mp4', fcc, fps, (width, height))\n",
    "\n",
    "    - 비디오 저장을 위한 객체\n",
    "\n",
    "- frame\n",
    "\n",
    "    - 만약 frame = cv2.filp(frame, 0)을 적용한다면 비디오가 거꾸로 되서 나옴! "
   ]
  },
  {
   "cell_type": "code",
   "execution_count": 3,
   "metadata": {},
   "outputs": [
    {
     "name": "stdout",
     "output_type": "stream",
     "text": [
      "Run Camera\n",
      "Start Recording!\n",
      "Recoding Stopped!\n"
     ]
    }
   ],
   "source": [
    "def showVideo():\n",
    "    try:\n",
    "        print('Run Camera')\n",
    "        cap = cv2.VideoCapture(0)\n",
    "    except:\n",
    "        print('Camera FAILED')\n",
    "        return\n",
    "\n",
    "    fps = 20.0\n",
    "    width = int(cap.get(3))\n",
    "    height = int(cap.get(4))\n",
    "    fcc = cv2.VideoWriter_fourcc('D','I','V','X')\n",
    "    \n",
    "    out = cv2.VideoWriter('myCam.mp4', fcc, fps, (width, height))\n",
    "    print('Start Recording!')\n",
    "    \n",
    "    \n",
    "   \n",
    "    while True:\n",
    "        ret, frame = cap.read() \n",
    "        \n",
    "        if not ret:\n",
    "            print('Video Reading FAILED') \n",
    "            break\n",
    "        \n",
    "        cv2.imshow('video', frame)\n",
    "        out.write(frame)\n",
    "        \n",
    "        wait = cv2.waitKey(1) & 0xFF\n",
    "        if wait == 27:\n",
    "            print('Recoding Stopped!')\n",
    "            break\n",
    "    \n",
    "    cap.release()\n",
    "    out.release()\n",
    "    cv2.destroyAllWindows()\n",
    "    \n",
    "showVideo()"
   ]
  },
  {
   "cell_type": "code",
   "execution_count": null,
   "metadata": {},
   "outputs": [],
   "source": []
  }
 ],
 "metadata": {
  "kernelspec": {
   "display_name": "Python 3",
   "language": "python",
   "name": "python3"
  },
  "language_info": {
   "codemirror_mode": {
    "name": "ipython",
    "version": 3
   },
   "file_extension": ".py",
   "mimetype": "text/x-python",
   "name": "python",
   "nbconvert_exporter": "python",
   "pygments_lexer": "ipython3",
   "version": "3.10.5"
  },
  "orig_nbformat": 4,
  "vscode": {
   "interpreter": {
    "hash": "e89c93e4c07d4ac8f065cea982a638287e1c61026788fcbbad7e0263e2130583"
   }
  }
 },
 "nbformat": 4,
 "nbformat_minor": 2
}
